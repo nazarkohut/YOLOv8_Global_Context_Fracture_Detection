{
 "cells": [
  {
   "metadata": {
    "jupyter": {
     "is_executing": true
    }
   },
   "cell_type": "code",
   "source": "!python start_train.py --model yolov8.yaml --data_dir \"GRAZPEDWRI-DX/data/meta.yaml\" --device cpu",
   "id": "b83bef4164346a53",
   "outputs": [],
   "execution_count": null
  },
  {
   "metadata": {},
   "cell_type": "code",
   "outputs": [],
   "execution_count": null,
   "source": "# !yolo export model=\"{TRAINED_MODEL_PATH}\" imgsz=\"{IMAGE_SIZE}\" format=\"{FORMAT}\" project=\"{RUNS_FOLDER}\" name=\"{EXPORT_EXPERIMENT_NAME}\" opset=18",
   "id": "48b0daf0526001cc"
  },
  {
   "metadata": {},
   "cell_type": "code",
   "outputs": [],
   "execution_count": null,
   "source": "# !yolo export model=\"C:\\Users\\admin\\PycharmProjects\\YOLOv8_Global_Context_Fracture_Detection\\runs\\detect\\yolov8n_simam\\train\\weights\\best.pt\" imgsz=\"640\" format=\"onnx\" opset=18",
   "id": "2823bf16f72288e0"
  }
 ],
 "metadata": {
  "kernelspec": {
   "display_name": "Python 3",
   "language": "python",
   "name": "python3"
  },
  "language_info": {
   "codemirror_mode": {
    "name": "ipython",
    "version": 2
   },
   "file_extension": ".py",
   "mimetype": "text/x-python",
   "name": "python",
   "nbconvert_exporter": "python",
   "pygments_lexer": "ipython2",
   "version": "2.7.6"
  }
 },
 "nbformat": 4,
 "nbformat_minor": 5
}
